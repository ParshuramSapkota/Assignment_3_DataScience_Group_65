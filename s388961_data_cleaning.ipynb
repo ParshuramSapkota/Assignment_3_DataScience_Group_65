{
  "nbformat": 4,
  "nbformat_minor": 0,
  "metadata": {
    "colab": {
      "provenance": [],
      "authorship_tag": "ABX9TyMW0+uDbhzyC8Iu85zpDs3C",
      "include_colab_link": true
    },
    "kernelspec": {
      "name": "python3",
      "display_name": "Python 3"
    },
    "language_info": {
      "name": "python"
    }
  },
  "cells": [
    {
      "cell_type": "markdown",
      "metadata": {
        "id": "view-in-github",
        "colab_type": "text"
      },
      "source": [
        "<a href=\"https://colab.research.google.com/github/ParshuramSapkota/Assignment_3_DataScience_Group_65/blob/Parshuram-code/s388961_data_cleaning.ipynb\" target=\"_parent\"><img src=\"https://colab.research.google.com/assets/colab-badge.svg\" alt=\"Open In Colab\"/></a>"
      ]
    },
    {
      "cell_type": "code",
      "execution_count": 1,
      "metadata": {
        "colab": {
          "base_uri": "https://localhost:8080/"
        },
        "id": "GASHK4om7sz4",
        "outputId": "8b9aa89f-546f-49a2-9941-127639578490"
      },
      "outputs": [
        {
          "output_type": "stream",
          "name": "stdout",
          "text": [
            "Bat Data Info:\n",
            "<class 'pandas.core.frame.DataFrame'>\n",
            "RangeIndex: 907 entries, 0 to 906\n",
            "Data columns (total 12 columns):\n",
            " #   Column                     Non-Null Count  Dtype  \n",
            "---  ------                     --------------  -----  \n",
            " 0   start_time                 907 non-null    object \n",
            " 1   bat_landing_to_food        907 non-null    float64\n",
            " 2   habit                      866 non-null    object \n",
            " 3   rat_period_start           907 non-null    object \n",
            " 4   rat_period_end             907 non-null    object \n",
            " 5   seconds_after_rat_arrival  907 non-null    int64  \n",
            " 6   risk                       907 non-null    int64  \n",
            " 7   reward                     907 non-null    int64  \n",
            " 8   month                      907 non-null    int64  \n",
            " 9   sunset_time                907 non-null    object \n",
            " 10  hours_after_sunset         907 non-null    float64\n",
            " 11  season                     907 non-null    int64  \n",
            "dtypes: float64(2), int64(5), object(5)\n",
            "memory usage: 85.2+ KB\n",
            "None\n",
            "\n",
            "Rat Data Info:\n",
            "<class 'pandas.core.frame.DataFrame'>\n",
            "RangeIndex: 2123 entries, 0 to 2122\n",
            "Data columns (total 7 columns):\n",
            " #   Column              Non-Null Count  Dtype  \n",
            "---  ------              --------------  -----  \n",
            " 0   time                2123 non-null   object \n",
            " 1   month               2123 non-null   int64  \n",
            " 2   hours_after_sunset  2123 non-null   float64\n",
            " 3   bat_landing_number  2123 non-null   int64  \n",
            " 4   food_availability   2123 non-null   float64\n",
            " 5   rat_minutes         2123 non-null   float64\n",
            " 6   rat_arrival_number  2123 non-null   int64  \n",
            "dtypes: float64(3), int64(3), object(1)\n",
            "memory usage: 116.2+ KB\n",
            "None\n",
            "\n",
            "Missing values in bat data:\n",
            "start_time                    0\n",
            "bat_landing_to_food           0\n",
            "habit                        41\n",
            "rat_period_start              0\n",
            "rat_period_end                0\n",
            "seconds_after_rat_arrival     0\n",
            "risk                          0\n",
            "reward                        0\n",
            "month                         0\n",
            "sunset_time                   0\n",
            "hours_after_sunset            0\n",
            "season                        0\n",
            "dtype: int64\n",
            "\n",
            "Missing values in rat data:\n",
            "time                  0\n",
            "month                 0\n",
            "hours_after_sunset    0\n",
            "bat_landing_number    0\n",
            "food_availability     0\n",
            "rat_minutes           0\n",
            "rat_arrival_number    0\n",
            "dtype: int64\n",
            "\n",
            "Cleaned datasets saved successfully!\n"
          ]
        },
        {
          "output_type": "stream",
          "name": "stderr",
          "text": [
            "/tmp/ipython-input-3066051646.py:32: UserWarning: Parsing dates in %d/%m/%Y %H:%M format when dayfirst=False (the default) was specified. Pass `dayfirst=True` or specify a format to silence this warning.\n",
            "  bat_data['start_time'] = pd.to_datetime(bat_data['start_time'], errors='coerce')\n",
            "/tmp/ipython-input-3066051646.py:33: UserWarning: Parsing dates in %d/%m/%Y %H:%M format when dayfirst=False (the default) was specified. Pass `dayfirst=True` or specify a format to silence this warning.\n",
            "  bat_data['rat_period_start'] = pd.to_datetime(bat_data['rat_period_start'], errors='coerce')\n",
            "/tmp/ipython-input-3066051646.py:34: UserWarning: Parsing dates in %d/%m/%Y %H:%M format when dayfirst=False (the default) was specified. Pass `dayfirst=True` or specify a format to silence this warning.\n",
            "  bat_data['rat_period_end'] = pd.to_datetime(bat_data['rat_period_end'], errors='coerce')\n"
          ]
        }
      ],
      "source": [
        "# Member A - Data Cleaning and Preparation\n",
        "\n",
        "import pandas as pd\n",
        "import numpy as np\n",
        "\n",
        "# 1. Load datasets\n",
        "bat_data = pd.read_csv(\"dataset1.csv\")\n",
        "rat_data = pd.read_csv(\"dataset2.csv\")\n",
        "\n",
        "# 2. Inspect datasets\n",
        "print(\"Bat Data Info:\")\n",
        "print(bat_data.info())\n",
        "print(\"\\nRat Data Info:\")\n",
        "print(rat_data.info())\n",
        "\n",
        "# 3. Check for missing values\n",
        "print(\"\\nMissing values in bat data:\")\n",
        "print(bat_data.isnull().sum())\n",
        "\n",
        "print(\"\\nMissing values in rat data:\")\n",
        "print(rat_data.isnull().sum())\n",
        "\n",
        "# 4. Handle missing or incorrect values\n",
        "# Example: fill missing food availability with mean\n",
        "rat_data['food_availability'] = rat_data['food_availability'].fillna(rat_data['food_availability'].mean())\n",
        "\n",
        "# Drop duplicates\n",
        "bat_data.drop_duplicates(inplace=True)\n",
        "rat_data.drop_duplicates(inplace=True)\n",
        "\n",
        "# 5. Convert time columns to datetime\n",
        "bat_data['start_time'] = pd.to_datetime(bat_data['start_time'], errors='coerce')\n",
        "bat_data['rat_period_start'] = pd.to_datetime(bat_data['rat_period_start'], errors='coerce')\n",
        "bat_data['rat_period_end'] = pd.to_datetime(bat_data['rat_period_end'], errors='coerce')\n",
        "\n",
        "# 6. Create new features\n",
        "# Calculate how long rats were present\n",
        "bat_data['rat_presence_duration'] = (\n",
        "    bat_data['rat_period_end'] - bat_data['rat_period_start']\n",
        ").dt.total_seconds()\n",
        "\n",
        "# 7. Save cleaned data\n",
        "bat_data.to_csv(\"cleaned_bat_data.csv\", index=False)\n",
        "rat_data.to_csv(\"cleaned_rat_data.csv\", index=False)\n",
        "\n",
        "print(\"\\nCleaned datasets saved successfully!\")\n"
      ]
    }
  ]
}